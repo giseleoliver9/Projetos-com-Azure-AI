{
  "cells": [
    {
      "cell_type": "code",
      "execution_count": null,
      "metadata": {
        "colab": {
          "base_uri": "https://localhost:8080/"
        },
        "id": "-Gy3yg_OTTBX",
        "outputId": "0ebd0242-2a71-476e-d3db-07b0a5016438"
      },
      "outputs": [
        {
          "name": "stdout",
          "output_type": "stream",
          "text": [
            "Collecting azure-cognitiveservices-vision-computervision\n",
            "  Downloading azure_cognitiveservices_vision_computervision-0.9.1-py2.py3-none-any.whl.metadata (9.4 kB)\n",
            "Collecting msrest>=0.6.21 (from azure-cognitiveservices-vision-computervision)\n",
            "  Downloading msrest-0.7.1-py3-none-any.whl.metadata (21 kB)\n",
            "Collecting azure-common~=1.1 (from azure-cognitiveservices-vision-computervision)\n",
            "  Downloading azure_common-1.1.28-py2.py3-none-any.whl.metadata (5.0 kB)\n",
            "Collecting azure-core>=1.24.0 (from msrest>=0.6.21->azure-cognitiveservices-vision-computervision)\n",
            "  Downloading azure_core-1.34.0-py3-none-any.whl.metadata (42 kB)\n",
            "\u001b[2K     \u001b[90m━━━━━━━━━━━━━━━━━━━━━━━━━━━━━━━━━━━━━━━━\u001b[0m \u001b[32m42.9/42.9 kB\u001b[0m \u001b[31m1.9 MB/s\u001b[0m eta \u001b[36m0:00:00\u001b[0m\n",
            "\u001b[?25hRequirement already satisfied: certifi>=2017.4.17 in /usr/local/lib/python3.11/dist-packages (from msrest>=0.6.21->azure-cognitiveservices-vision-computervision) (2025.4.26)\n",
            "Collecting isodate>=0.6.0 (from msrest>=0.6.21->azure-cognitiveservices-vision-computervision)\n",
            "  Downloading isodate-0.7.2-py3-none-any.whl.metadata (11 kB)\n",
            "Requirement already satisfied: requests-oauthlib>=0.5.0 in /usr/local/lib/python3.11/dist-packages (from msrest>=0.6.21->azure-cognitiveservices-vision-computervision) (2.0.0)\n",
            "Requirement already satisfied: requests~=2.16 in /usr/local/lib/python3.11/dist-packages (from msrest>=0.6.21->azure-cognitiveservices-vision-computervision) (2.32.3)\n",
            "Requirement already satisfied: six>=1.11.0 in /usr/local/lib/python3.11/dist-packages (from azure-core>=1.24.0->msrest>=0.6.21->azure-cognitiveservices-vision-computervision) (1.17.0)\n",
            "Requirement already satisfied: typing-extensions>=4.6.0 in /usr/local/lib/python3.11/dist-packages (from azure-core>=1.24.0->msrest>=0.6.21->azure-cognitiveservices-vision-computervision) (4.13.2)\n",
            "Requirement already satisfied: charset-normalizer<4,>=2 in /usr/local/lib/python3.11/dist-packages (from requests~=2.16->msrest>=0.6.21->azure-cognitiveservices-vision-computervision) (3.4.2)\n",
            "Requirement already satisfied: idna<4,>=2.5 in /usr/local/lib/python3.11/dist-packages (from requests~=2.16->msrest>=0.6.21->azure-cognitiveservices-vision-computervision) (3.10)\n",
            "Requirement already satisfied: urllib3<3,>=1.21.1 in /usr/local/lib/python3.11/dist-packages (from requests~=2.16->msrest>=0.6.21->azure-cognitiveservices-vision-computervision) (2.4.0)\n",
            "Requirement already satisfied: oauthlib>=3.0.0 in /usr/local/lib/python3.11/dist-packages (from requests-oauthlib>=0.5.0->msrest>=0.6.21->azure-cognitiveservices-vision-computervision) (3.2.2)\n",
            "Downloading azure_cognitiveservices_vision_computervision-0.9.1-py2.py3-none-any.whl (36 kB)\n",
            "Downloading azure_common-1.1.28-py2.py3-none-any.whl (14 kB)\n",
            "Downloading msrest-0.7.1-py3-none-any.whl (85 kB)\n",
            "\u001b[2K   \u001b[90m━━━━━━━━━━━━━━━━━━━━━━━━━━━━━━━━━━━━━━━━\u001b[0m \u001b[32m85.4/85.4 kB\u001b[0m \u001b[31m5.1 MB/s\u001b[0m eta \u001b[36m0:00:00\u001b[0m\n",
            "\u001b[?25hDownloading azure_core-1.34.0-py3-none-any.whl (207 kB)\n",
            "\u001b[2K   \u001b[90m━━━━━━━━━━━━━━━━━━━━━━━━━━━━━━━━━━━━━━━━\u001b[0m \u001b[32m207.4/207.4 kB\u001b[0m \u001b[31m10.5 MB/s\u001b[0m eta \u001b[36m0:00:00\u001b[0m\n",
            "\u001b[?25hDownloading isodate-0.7.2-py3-none-any.whl (22 kB)\n",
            "Installing collected packages: azure-common, isodate, azure-core, msrest, azure-cognitiveservices-vision-computervision\n",
            "Successfully installed azure-cognitiveservices-vision-computervision-0.9.1 azure-common-1.1.28 azure-core-1.34.0 isodate-0.7.2 msrest-0.7.1\n"
          ]
        }
      ],
      "source": [
        "!pip install azure-cognitiveservices-vision-computervision"
      ]
    },
    {
      "cell_type": "code",
      "execution_count": null,
      "metadata": {
        "colab": {
          "background_save": true,
          "base_uri": "https://localhost:8080/"
        },
        "id": "_1RBzh8QVmmu",
        "outputId": "402feb5c-5a8a-4393-846c-587d6018f2a6"
      },
      "outputs": [
        {
          "name": "stdout",
          "output_type": "stream",
          "text": [
            "✨ Bem-vindo ao Olho de C-3PO - Analisador de Imagens! ✨\n",
            "\n",
            "--- 🤖 Analisando a imagem em: https://static.wixstatic.com/media/8438f6_449ebfdb0e8f4cdd968752e658250ff2~mv2.jpg/v1/fill/w_568,h_278,al_c,q_80,usm_0.66_1.00_0.01,enc_avif,quality_auto/8438f6_449ebfdb0e8f4cdd968752e658250ff2~mv2.jpg ---\n",
            "👁️‍🗨️ Descrição: 'a couple of dogs sitting in grass' (Confiança: 29.30%)\n",
            "🏷️ Tags Identificadas:\n",
            "  - 'mammal' (Confiança: 99.96%)\n",
            "  - 'grass' (Confiança: 99.56%)\n",
            "  - 'animal' (Confiança: 99.54%)\n",
            "  - 'outdoor' (Confiança: 88.86%)\n",
            "  - 'field' (Confiança: 76.76%)\n",
            "  - 'dog' (Confiança: 67.75%)\n",
            "  - 'rabbit' (Confiança: 56.57%)\n"
          ]
        }
      ],
      "source": [
        "from azure.cognitiveservices.vision.computervision import ComputerVisionClient\n",
        "from azure.cognitiveservices.vision.computervision.models import VisualFeatureTypes\n",
        "from msrest.authentication import CognitiveServicesCredentials\n",
        "from google.colab import userdata # Para acessar os Secrets\n",
        "import os\n",
        "\n",
        "# --- Configuração ---\n",
        "# Acessa as chaves do Colab Secrets\n",
        "AZURE_VISION_KEY = userdata.get('AZURE_VISION_KEY')\n",
        "AZURE_VISION_ENDPOINT = userdata.get('AZURE_VISION_ENDPOINT')\n",
        "\n",
        "# --- Funções ---\n",
        "def authenticate_vision_client():\n",
        "    \"\"\"Autentica e retorna o cliente do Computer Vision.\"\"\"\n",
        "    if not AZURE_VISION_KEY or not AZURE_VISION_ENDPOINT:\n",
        "        print(\"ERRO: Chave ou Endpoint não encontrados nos Secrets. Verifique a configuração.\")\n",
        "        return None\n",
        "    credentials = CognitiveServicesCredentials(AZURE_VISION_KEY)\n",
        "    client = ComputerVisionClient(AZURE_VISION_ENDPOINT, credentials)\n",
        "    return client\n",
        "\n",
        "def analisar_imagem_url(image_url):\n",
        "    \"\"\"Envia a URL da imagem para o Azure, analisa e imprime os resultados.\"\"\"\n",
        "    client = authenticate_vision_client()\n",
        "    if not client:\n",
        "        return # Sai se a autenticação falhar\n",
        "\n",
        "    # Define quais features queremos: Descrição e Tags\n",
        "    features = [VisualFeatureTypes.description, VisualFeatureTypes.tags]\n",
        "\n",
        "    print(f\"\\n--- 🤖 Analisando a imagem em: {image_url} ---\")\n",
        "\n",
        "    try:\n",
        "        # Chama a API de Análise de Imagem\n",
        "        analysis = client.analyze_image(image_url, visual_features=features)\n",
        "\n",
        "        # Imprime a Descrição\n",
        "        if analysis.description and analysis.description.captions:\n",
        "            caption = analysis.description.captions[0]\n",
        "            print(f\"👁️‍🗨️ Descrição: '{caption.text}' (Confiança: {caption.confidence*100:.2f}%)\")\n",
        "        else:\n",
        "            print(\"👁️‍🗨️ Droide: Não consegui descrever esta imagem.\")\n",
        "\n",
        "        # Imprime as Tags\n",
        "        if analysis.tags:\n",
        "            print(\"🏷️ Tags Identificadas:\")\n",
        "            for tag in analysis.tags:\n",
        "                print(f\"  - '{tag.name}' (Confiança: {tag.confidence*100:.2f}%)\")\n",
        "        else:\n",
        "            print(\"🏷️ Droide: Nenhuma tag identificada.\")\n",
        "\n",
        "    except Exception as err:\n",
        "        print(f\"💥 Ocorreu um erro nos sensores visuais: {err}\")\n",
        "        print(\"   Verifique se a URL da imagem está correta e é acessível publicamente.\")\n",
        "\n",
        "# --- Loop Principal ---\n",
        "print(\"✨ Bem-vindo ao Olho de C-3PO - Analisador de Imagens! ✨\")\n",
        "while True:\n",
        "    url_imagem = input(\"\\n🔗 Digite a URL da imagem (ou 'sair'): \")\n",
        "    if url_imagem.lower() == 'sair':\n",
        "        break\n",
        "    # Simples verificação se parece uma URL\n",
        "    if url_imagem.startswith(\"http://\") or url_imagem.startswith(\"https://\"):\n",
        "        analisar_imagem_url(url_imagem)\n",
        "    elif url_imagem:\n",
        "        print(\"❗ Droide: Oh, céus! Parece que isto não é uma URL válida. Tente novamente.\")\n",
        "\n",
        "print(\"\\n👋 Desligando sensores. Que a Força esteja com você!\")"
      ]
    }
  ],
  "metadata": {
    "colab": {
      "provenance": []
    },
    "kernelspec": {
      "display_name": "Python 3",
      "name": "python3"
    },
    "language_info": {
      "name": "python"
    }
  },
  "nbformat": 4,
  "nbformat_minor": 0
}