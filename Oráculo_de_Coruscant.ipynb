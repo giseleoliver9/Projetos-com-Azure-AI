{
  "cells": [
    {
      "cell_type": "code",
      "execution_count": null,
      "metadata": {
        "colab": {
          "base_uri": "https://localhost:8080/"
        },
        "collapsed": true,
        "id": "cd0ea9CsRF42",
        "outputId": "dd2775ce-b006-4e66-b159-4b5e10e5565e"
      },
      "outputs": [
        {
          "name": "stdout",
          "output_type": "stream",
          "text": [
            "Collecting azure-ai-textanalytics\n",
            "  Downloading azure_ai_textanalytics-5.3.0-py3-none-any.whl.metadata (82 kB)\n",
            "\u001b[2K     \u001b[90m━━━━━━━━━━━━━━━━━━━━━━━━━━━━━━━━━━━━━━━━\u001b[0m \u001b[32m82.8/82.8 kB\u001b[0m \u001b[31m1.6 MB/s\u001b[0m eta \u001b[36m0:00:00\u001b[0m\n",
            "\u001b[?25hCollecting azure-core<2.0.0,>=1.24.0 (from azure-ai-textanalytics)\n",
            "  Downloading azure_core-1.34.0-py3-none-any.whl.metadata (42 kB)\n",
            "\u001b[2K     \u001b[90m━━━━━━━━━━━━━━━━━━━━━━━━━━━━━━━━━━━━━━━━\u001b[0m \u001b[32m42.9/42.9 kB\u001b[0m \u001b[31m1.3 MB/s\u001b[0m eta \u001b[36m0:00:00\u001b[0m\n",
            "\u001b[?25hCollecting azure-common~=1.1 (from azure-ai-textanalytics)\n",
            "  Downloading azure_common-1.1.28-py2.py3-none-any.whl.metadata (5.0 kB)\n",
            "Collecting isodate<1.0.0,>=0.6.1 (from azure-ai-textanalytics)\n",
            "  Downloading isodate-0.7.2-py3-none-any.whl.metadata (11 kB)\n",
            "Requirement already satisfied: typing-extensions>=4.0.1 in /usr/local/lib/python3.11/dist-packages (from azure-ai-textanalytics) (4.13.2)\n",
            "Requirement already satisfied: requests>=2.21.0 in /usr/local/lib/python3.11/dist-packages (from azure-core<2.0.0,>=1.24.0->azure-ai-textanalytics) (2.32.3)\n",
            "Requirement already satisfied: six>=1.11.0 in /usr/local/lib/python3.11/dist-packages (from azure-core<2.0.0,>=1.24.0->azure-ai-textanalytics) (1.17.0)\n",
            "Requirement already satisfied: charset-normalizer<4,>=2 in /usr/local/lib/python3.11/dist-packages (from requests>=2.21.0->azure-core<2.0.0,>=1.24.0->azure-ai-textanalytics) (3.4.2)\n",
            "Requirement already satisfied: idna<4,>=2.5 in /usr/local/lib/python3.11/dist-packages (from requests>=2.21.0->azure-core<2.0.0,>=1.24.0->azure-ai-textanalytics) (3.10)\n",
            "Requirement already satisfied: urllib3<3,>=1.21.1 in /usr/local/lib/python3.11/dist-packages (from requests>=2.21.0->azure-core<2.0.0,>=1.24.0->azure-ai-textanalytics) (2.4.0)\n",
            "Requirement already satisfied: certifi>=2017.4.17 in /usr/local/lib/python3.11/dist-packages (from requests>=2.21.0->azure-core<2.0.0,>=1.24.0->azure-ai-textanalytics) (2025.4.26)\n",
            "Downloading azure_ai_textanalytics-5.3.0-py3-none-any.whl (298 kB)\n",
            "\u001b[2K   \u001b[90m━━━━━━━━━━━━━━━━━━━━━━━━━━━━━━━━━━━━━━━━\u001b[0m \u001b[32m298.6/298.6 kB\u001b[0m \u001b[31m6.6 MB/s\u001b[0m eta \u001b[36m0:00:00\u001b[0m\n",
            "\u001b[?25hDownloading azure_common-1.1.28-py2.py3-none-any.whl (14 kB)\n",
            "Downloading azure_core-1.34.0-py3-none-any.whl (207 kB)\n",
            "\u001b[2K   \u001b[90m━━━━━━━━━━━━━━━━━━━━━━━━━━━━━━━━━━━━━━━━\u001b[0m \u001b[32m207.4/207.4 kB\u001b[0m \u001b[31m6.8 MB/s\u001b[0m eta \u001b[36m0:00:00\u001b[0m\n",
            "\u001b[?25hDownloading isodate-0.7.2-py3-none-any.whl (22 kB)\n",
            "Installing collected packages: azure-common, isodate, azure-core, azure-ai-textanalytics\n",
            "Successfully installed azure-ai-textanalytics-5.3.0 azure-common-1.1.28 azure-core-1.34.0 isodate-0.7.2\n"
          ]
        }
      ],
      "source": [
        "!pip install azure-ai-textanalytics"
      ]
    },
    {
      "cell_type": "code",
      "execution_count": null,
      "metadata": {
        "colab": {
          "background_save": true,
          "base_uri": "https://localhost:8080/"
        },
        "id": "gIZL5CsmRNNJ",
        "outputId": "ddb57598-1cad-46d0-c323-5f94569aabb7"
      },
      "outputs": [
        {
          "name": "stdout",
          "output_type": "stream",
          "text": [
            "Bem-vindo ao Oráculo de Coruscant!\n",
            "\n",
            "--- Análise do Oráculo para: 'Que a Força esteja com você.' ---\n",
            "Sentimento da Força: Equilíbrio da Força ⚖️\n",
            "  (Confiança: Pos=0.40, Neu=0.58, Neg=0.02)\n",
            "Ideias-Chave: Força\n",
            "\n",
            "--- Análise do Oráculo para: 'O medo é o caminho para o lado negro' ---\n",
            "Sentimento da Força: Sombrio 🌑\n",
            "  (Confiança: Pos=0.01, Neu=0.08, Neg=0.91)\n",
            "Ideias-Chave: lado negro, medo, caminho\n"
          ]
        }
      ],
      "source": [
        "from azure.ai.textanalytics import TextAnalyticsClient\n",
        "from azure.core.credentials import AzureKeyCredential\n",
        "from google.colab import userdata # Importa a biblioteca para acessar Secrets\n",
        "\n",
        "# --- Configuração ---\n",
        "# Acessa as chaves do Colab Secrets (Forma Segura!)\n",
        "AZURE_LANGUAGE_KEY = userdata.get('AZURE_LANGUAGE_KEY')\n",
        "AZURE_LANGUAGE_ENDPOINT = userdata.get('AZURE_LANGUAGE_ENDPOINT')\n",
        "\n",
        "# // Peça ao Copilot: Função para autenticar o cliente do Azure Language\n",
        "def authenticate_client():\n",
        "    \"\"\"Autentica e retorna o cliente do Text Analytics.\"\"\"\n",
        "    ta_credential = AzureKeyCredential(AZURE_LANGUAGE_KEY)\n",
        "    text_analytics_client = TextAnalyticsClient(\n",
        "            endpoint=AZURE_LANGUAGE_ENDPOINT,\n",
        "            credential=ta_credential)\n",
        "    return text_analytics_client\n",
        "\n",
        "# // Peça ao Copilot: Função para analisar sentimento e extrair frases-chave\n",
        "def analisar_sabedoria(texto_para_analise):\n",
        "    \"\"\"Envia o texto para o Azure, analisa e imprime os resultados.\"\"\"\n",
        "    client = authenticate_client()\n",
        "    documentos = [texto_para_analise]\n",
        "\n",
        "    try:\n",
        "        # Verifica se as credenciais foram carregadas\n",
        "        if not AZURE_LANGUAGE_KEY or not AZURE_LANGUAGE_ENDPOINT:\n",
        "            print(\"ERRO: Credenciais do Azure não encontradas nos Secrets do Colab.\")\n",
        "            print(\"Verifique se você configurou AZURE_LANGUAGE_KEY e AZURE_LANGUAGE_ENDPOINT.\")\n",
        "            return\n",
        "\n",
        "        sentimento_response = client.analyze_sentiment(documents=documentos)[0]\n",
        "        frases_response = client.extract_key_phrases(documents=documentos)[0]\n",
        "\n",
        "        print(f\"\\n--- Análise do Oráculo para: '{texto_para_analise}' ---\")\n",
        "\n",
        "        sentimento_map = {\n",
        "            \"positive\": \"Luminoso ✨\", \"negative\": \"Sombrio 🌑\",\n",
        "            \"neutral\": \"Equilíbrio da Força ⚖️\", \"mixed\": \"Misto 🌀\"\n",
        "        }\n",
        "        sentimento_texto = sentimento_map.get(sentimento_response.sentiment,\n",
        "                                            sentimento_response.sentiment.capitalize())\n",
        "\n",
        "        print(f\"Sentimento da Força: {sentimento_texto}\")\n",
        "        print(f\"  (Confiança: Pos={sentimento_response.confidence_scores.positive:.2f}, \"\n",
        "              f\"Neu={sentimento_response.confidence_scores.neutral:.2f}, \"\n",
        "              f\"Neg={sentimento_response.confidence_scores.negative:.2f})\")\n",
        "\n",
        "        if not frases_response.is_error:\n",
        "            print(f\"Ideias-Chave: {', '.join(frases_response.key_phrases) if frases_response.key_phrases else 'Nenhuma.'}\")\n",
        "        else:\n",
        "            print(f\"Erro ao extrair ideias-chave: {frases_response.error.message}\")\n",
        "\n",
        "    except Exception as err:\n",
        "        print(f\"Ocorreu um erro ao contatar o Oráculo: {err}\")\n",
        "\n",
        "# --- Loop Principal ---\n",
        "print(\"Bem-vindo ao Oráculo de Coruscant!\")\n",
        "while True:\n",
        "    # O input() no Colab abrirá uma caixa de texto para você digitar\n",
        "    frase_jedi = input(\"\\nDigite sua sabedoria (ou 'sair'): \")\n",
        "    if frase_jedi.lower() == 'sair':\n",
        "        break\n",
        "    if frase_jedi:\n",
        "        analisar_sabedoria(frase_jedi)\n",
        "\n",
        "print(\"\\nQue a Força esteja com você!\")"
      ]
    }
  ],
  "metadata": {
    "colab": {
      "provenance": []
    },
    "kernelspec": {
      "display_name": "Python 3",
      "name": "python3"
    },
    "language_info": {
      "name": "python"
    }
  },
  "nbformat": 4,
  "nbformat_minor": 0
}